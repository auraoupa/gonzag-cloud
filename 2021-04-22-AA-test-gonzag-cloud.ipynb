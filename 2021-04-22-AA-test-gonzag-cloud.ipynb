{
 "cells": [
  {
   "cell_type": "code",
   "execution_count": 1,
   "id": "plain-diagram",
   "metadata": {},
   "outputs": [],
   "source": [
    "import sys\n",
    "from os import getenv\n",
    "import warnings\n",
    "warnings.filterwarnings(\"ignore\")"
   ]
  },
  {
   "cell_type": "code",
   "execution_count": 2,
   "id": "constant-algebra",
   "metadata": {},
   "outputs": [],
   "source": [
    "import gonzag_cloud.gonzag as gzg\n",
    "from gonzag_cloud.gonzag.io import *\n",
    "from gonzag_cloud.gonzag.config import *"
   ]
  },
  {
   "cell_type": "code",
   "execution_count": 3,
   "id": "fifteen-decline",
   "metadata": {},
   "outputs": [],
   "source": [
    "import xarray as xr\n",
    "osn_url = 'https://ncsa.osn.xsede.org/Pangeo/pangeo-forge/swot_adac/eNATL60_surface_region_1'\n",
    "dsmod = xr.open_zarr(osn_url, consolidated=True,decode_cf=False)"
   ]
  },
  {
   "cell_type": "code",
   "execution_count": null,
   "id": "technical-check",
   "metadata": {},
   "outputs": [],
   "source": [
    "from intake import open_catalog\n",
    "cat = open_catalog(\"https://raw.githubusercontent.com/pangeo-data/pangeo-datastore/master/intake-catalogs/ocean/altimetry.yaml\")\n",
    "dssat  = cat[\"al\"].to_dask()"
   ]
  },
  {
   "cell_type": "code",
   "execution_count": null,
   "id": "minimal-region",
   "metadata": {},
   "outputs": [],
   "source": [
    "ds"
   ]
  },
  {
   "cell_type": "code",
   "execution_count": null,
   "id": "labeled-illinois",
   "metadata": {},
   "outputs": [],
   "source": [
    "\n",
    "x2d=GetModel2DVar(ds,'sossheig')"
   ]
  },
  {
   "cell_type": "code",
   "execution_count": null,
   "id": "changed-correction",
   "metadata": {},
   "outputs": [],
   "source": [
    "nt, (rt1,rt2)=GetTimeInfo(ds)"
   ]
  },
  {
   "cell_type": "code",
   "execution_count": null,
   "id": "accomplished-sailing",
   "metadata": {},
   "outputs": [],
   "source": []
  }
 ],
 "metadata": {
  "kernelspec": {
   "display_name": "Python 3",
   "language": "python",
   "name": "python3"
  },
  "language_info": {
   "codemirror_mode": {
    "name": "ipython",
    "version": 3
   },
   "file_extension": ".py",
   "mimetype": "text/x-python",
   "name": "python",
   "nbconvert_exporter": "python",
   "pygments_lexer": "ipython3",
   "version": "3.8.6"
  }
 },
 "nbformat": 4,
 "nbformat_minor": 5
}
