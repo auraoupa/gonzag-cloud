{
 "cells": [
  {
   "cell_type": "code",
   "execution_count": 1,
   "id": "english-strip",
   "metadata": {},
   "outputs": [
    {
     "data": {
      "text/html": [
       "<table style=\"border: 2px solid white;\">\n",
       "<tr>\n",
       "<td style=\"vertical-align: top; border: 0px solid white\">\n",
       "<h3 style=\"text-align: left;\">Client</h3>\n",
       "<ul style=\"text-align: left; list-style: none; margin: 0; padding: 0;\">\n",
       "  <li><b>Scheduler: </b>tcp://127.0.0.1:43307</li>\n",
       "  <li><b>Dashboard: </b><a href='http://127.0.0.1:8787/status' target='_blank'>http://127.0.0.1:8787/status</a></li>\n",
       "</ul>\n",
       "</td>\n",
       "<td style=\"vertical-align: top; border: 0px solid white\">\n",
       "<h3 style=\"text-align: left;\">Cluster</h3>\n",
       "<ul style=\"text-align: left; list-style:none; margin: 0; padding: 0;\">\n",
       "  <li><b>Workers: </b>4</li>\n",
       "  <li><b>Cores: </b>4</li>\n",
       "  <li><b>Memory: </b>17.18 GB</li>\n",
       "</ul>\n",
       "</td>\n",
       "</tr>\n",
       "</table>"
      ],
      "text/plain": [
       "<Client: 'tcp://127.0.0.1:43307' processes=4 threads=4, memory=17.18 GB>"
      ]
     },
     "execution_count": 1,
     "metadata": {},
     "output_type": "execute_result"
    }
   ],
   "source": [
    "from dask.distributed import Client, progress\n",
    "client = Client(n_workers=4, threads_per_worker=1)\n",
    "client"
   ]
  },
  {
   "cell_type": "code",
   "execution_count": 3,
   "id": "intensive-beaver",
   "metadata": {},
   "outputs": [
    {
     "name": "stdout",
     "output_type": "stream",
     "text": [
      "Collecting mimesis\n",
      "  Downloading mimesis-4.1.3.tar.gz (2.8 MB)\n",
      "\u001b[K     |████████████████████████████████| 2.8 MB 4.2 MB/s eta 0:00:01\n",
      "\u001b[?25hBuilding wheels for collected packages: mimesis\n",
      "  Building wheel for mimesis (setup.py) ... \u001b[?25ldone\n",
      "\u001b[?25h  Created wheel for mimesis: filename=mimesis-4.1.3-py3-none-any.whl size=2849199 sha256=7b247c1ca5e45fc86daae3a9960d351c9e4825239d5a365925c565572f9508ea\n",
      "  Stored in directory: /home/jovyan/.cache/pip/wheels/82/1a/70/bb046da3c396a047e34f241924d6fc00c6889d3aa9508f11a3\n",
      "Successfully built mimesis\n",
      "Installing collected packages: mimesis\n",
      "Successfully installed mimesis-4.1.3\n",
      "Note: you may need to restart the kernel to use updated packages.\n"
     ]
    }
   ],
   "source": [
    "pip install mimesis"
   ]
  },
  {
   "cell_type": "code",
   "execution_count": 4,
   "id": "specialized-neighbor",
   "metadata": {},
   "outputs": [
    {
     "data": {
      "text/plain": [
       "['/home/jovyan/gonzag_cloud/data/0.json',\n",
       " '/home/jovyan/gonzag_cloud/data/1.json',\n",
       " '/home/jovyan/gonzag_cloud/data/2.json',\n",
       " '/home/jovyan/gonzag_cloud/data/3.json',\n",
       " '/home/jovyan/gonzag_cloud/data/4.json',\n",
       " '/home/jovyan/gonzag_cloud/data/5.json',\n",
       " '/home/jovyan/gonzag_cloud/data/6.json',\n",
       " '/home/jovyan/gonzag_cloud/data/7.json',\n",
       " '/home/jovyan/gonzag_cloud/data/8.json',\n",
       " '/home/jovyan/gonzag_cloud/data/9.json']"
      ]
     },
     "execution_count": 4,
     "metadata": {},
     "output_type": "execute_result"
    }
   ],
   "source": [
    "import dask\n",
    "import json\n",
    "import os\n",
    "\n",
    "os.makedirs('data', exist_ok=True)              # Create data/ directory\n",
    "\n",
    "b = dask.datasets.make_people()                 # Make records of people\n",
    "b.map(json.dumps).to_textfiles('data/*.json') "
   ]
  },
  {
   "cell_type": "code",
   "execution_count": 5,
   "id": "classical-electronics",
   "metadata": {},
   "outputs": [
    {
     "name": "stdout",
     "output_type": "stream",
     "text": [
      "{\"age\": 19, \"name\": [\"Blossom\", \"Parrish\"], \"occupation\": \"Project Leader\", \"telephone\": \"628-488-8559\", \"address\": {\"address\": \"106 Via Ferlinghetti Gate\", \"city\": \"Vestavia Hills\"}, \"credit-card\": {\"number\": \"2496 5743 3075 7775\", \"expiration-date\": \"09/25\"}}\n",
      "{\"age\": 21, \"name\": [\"Glayds\", \"Hansen\"], \"occupation\": \"Sales Executive\", \"telephone\": \"1-579-652-5999\", \"address\": {\"address\": \"107 Natoma Stravenue\", \"city\": \"Fort Wayne\"}, \"credit-card\": {\"number\": \"2714 0256 7282 1808\", \"expiration-date\": \"09/23\"}}\n"
     ]
    }
   ],
   "source": [
    "!head -n 2 data/0.json"
   ]
  },
  {
   "cell_type": "code",
   "execution_count": 6,
   "id": "fewer-storage",
   "metadata": {},
   "outputs": [
    {
     "data": {
      "text/plain": [
       "dask.bag<loads, npartitions=10>"
      ]
     },
     "execution_count": 6,
     "metadata": {},
     "output_type": "execute_result"
    }
   ],
   "source": [
    "import dask.bag as db\n",
    "import json\n",
    "\n",
    "b = db.read_text('data/*.json').map(json.loads)\n",
    "b"
   ]
  },
  {
   "cell_type": "code",
   "execution_count": 7,
   "id": "divine-fundamental",
   "metadata": {},
   "outputs": [
    {
     "data": {
      "text/plain": [
       "({'age': 19,\n",
       "  'name': ['Blossom', 'Parrish'],\n",
       "  'occupation': 'Project Leader',\n",
       "  'telephone': '628-488-8559',\n",
       "  'address': {'address': '106 Via Ferlinghetti Gate',\n",
       "   'city': 'Vestavia Hills'},\n",
       "  'credit-card': {'number': '2496 5743 3075 7775',\n",
       "   'expiration-date': '09/25'}},\n",
       " {'age': 21,\n",
       "  'name': ['Glayds', 'Hansen'],\n",
       "  'occupation': 'Sales Executive',\n",
       "  'telephone': '1-579-652-5999',\n",
       "  'address': {'address': '107 Natoma Stravenue', 'city': 'Fort Wayne'},\n",
       "  'credit-card': {'number': '2714 0256 7282 1808',\n",
       "   'expiration-date': '09/23'}})"
      ]
     },
     "execution_count": 7,
     "metadata": {},
     "output_type": "execute_result"
    }
   ],
   "source": [
    "b.take(2)"
   ]
  },
  {
   "cell_type": "code",
   "execution_count": 8,
   "id": "latin-burst",
   "metadata": {},
   "outputs": [
    {
     "data": {
      "text/plain": [
       "({'age': 34,\n",
       "  'name': ['Kermit', 'Sears'],\n",
       "  'occupation': 'Car Park Attendant',\n",
       "  'telephone': '1-201-326-3787',\n",
       "  'address': {'address': '1366 Gibb Highway', 'city': 'Bayonne'},\n",
       "  'credit-card': {'number': '4286 9344 9751 7968',\n",
       "   'expiration-date': '05/16'}},\n",
       " {'age': 33,\n",
       "  'name': ['Yolando', 'Schneider'],\n",
       "  'occupation': 'Premises',\n",
       "  'telephone': '1-833-212-0085',\n",
       "  'address': {'address': '1023 Morning Glory Run', 'city': 'Woodridge'},\n",
       "  'credit-card': {'number': '3474 405831 64181', 'expiration-date': '10/21'}})"
      ]
     },
     "execution_count": 8,
     "metadata": {},
     "output_type": "execute_result"
    }
   ],
   "source": [
    "b.filter(lambda record: record['age'] > 30).take(2)"
   ]
  },
  {
   "cell_type": "code",
   "execution_count": 9,
   "id": "decreased-wayne",
   "metadata": {},
   "outputs": [
    {
     "data": {
      "text/plain": [
       "('Project Leader', 'Sales Executive')"
      ]
     },
     "execution_count": 9,
     "metadata": {},
     "output_type": "execute_result"
    }
   ],
   "source": [
    "b.map(lambda record: record['occupation']).take(2) "
   ]
  },
  {
   "cell_type": "code",
   "execution_count": 10,
   "id": "experienced-vietnam",
   "metadata": {},
   "outputs": [
    {
     "data": {
      "text/plain": [
       "10000"
      ]
     },
     "execution_count": 10,
     "metadata": {},
     "output_type": "execute_result"
    }
   ],
   "source": [
    "b.count().compute()"
   ]
  },
  {
   "cell_type": "code",
   "execution_count": 11,
   "id": "traditional-remainder",
   "metadata": {},
   "outputs": [
    {
     "data": {
      "text/plain": [
       "dask.bag<topk-aggregate, npartitions=1>"
      ]
     },
     "execution_count": 11,
     "metadata": {},
     "output_type": "execute_result"
    }
   ],
   "source": [
    "result = (b.filter(lambda record: record['age'] > 30)\n",
    "           .map(lambda record: record['occupation'])\n",
    "           .frequencies(sort=True)\n",
    "           .topk(10, key=1))\n",
    "result"
   ]
  },
  {
   "cell_type": "code",
   "execution_count": 12,
   "id": "champion-spouse",
   "metadata": {},
   "outputs": [
    {
     "data": {
      "text/plain": [
       "[('Polisher', 17),\n",
       " ('Steel Erector', 16),\n",
       " ('Software Consultant', 14),\n",
       " ('Carpet Fitter', 14),\n",
       " ('Picture Framer', 14),\n",
       " ('Cellarman', 13),\n",
       " ('Magician', 13),\n",
       " ('Glass Worker', 13),\n",
       " ('Rally Driver', 13),\n",
       " ('Instrument Technician', 13)]"
      ]
     },
     "execution_count": 12,
     "metadata": {},
     "output_type": "execute_result"
    }
   ],
   "source": [
    "result.compute()"
   ]
  },
  {
   "cell_type": "code",
   "execution_count": 13,
   "id": "cubic-person",
   "metadata": {},
   "outputs": [],
   "source": [
    "def inc(x):\n",
    "    return x + 1\n",
    "\n",
    "def double(x):\n",
    "    return x * 2\n",
    "\n",
    "def add(x, y):\n",
    "    return x + y\n",
    "\n",
    "data = [1, 2, 3, 4, 5]\n",
    "\n",
    "output = []\n",
    "for x in data:\n",
    "    a = inc(x)\n",
    "    b = double(x)\n",
    "    c = add(a, b)\n",
    "    output.append(c)\n",
    "\n",
    "total = sum(output)\n"
   ]
  },
  {
   "cell_type": "code",
   "execution_count": 14,
   "id": "superior-groove",
   "metadata": {},
   "outputs": [],
   "source": [
    "import dask\n",
    "\n",
    "output = []\n",
    "for x in data:\n",
    "    a = dask.delayed(inc)(x)\n",
    "    b = dask.delayed(double)(x)\n",
    "    c = dask.delayed(add)(a, b)\n",
    "    output.append(c)\n",
    "\n",
    "total = dask.delayed(sum)(output)\n"
   ]
  },
  {
   "cell_type": "code",
   "execution_count": 15,
   "id": "rolled-trick",
   "metadata": {},
   "outputs": [
    {
     "data": {
      "image/png": "[encoded data removed]",
      "text/plain": [
       "<IPython.core.display.Image object>"
      ]
     },
     "execution_count": 15,
     "metadata": {},
     "output_type": "execute_result"
    }
   ],
   "source": [
    "total.visualize()"
   ]
  },
  {
   "cell_type": "code",
   "execution_count": 16,
   "id": "attempted-addition",
   "metadata": {},
   "outputs": [
    {
     "data": {
      "text/plain": [
       "50"
      ]
     },
     "execution_count": 16,
     "metadata": {},
     "output_type": "execute_result"
    }
   ],
   "source": [
    "total.compute()"
   ]
  },
  {
   "cell_type": "code",
   "execution_count": 17,
   "id": "medieval-employer",
   "metadata": {},
   "outputs": [],
   "source": [
    "import dask\n",
    "\n",
    "@dask.delayed\n",
    "def inc(x):\n",
    "    return x + 1\n",
    "\n",
    "@dask.delayed\n",
    "def double(x):\n",
    "    return x * 2\n",
    "\n",
    "@dask.delayed\n",
    "def add(x, y):\n",
    "    return x + y\n",
    "\n",
    "data = [1, 2, 3, 4, 5]\n",
    "\n",
    "output = []\n",
    "for x in data:\n",
    "    a = inc(x)\n",
    "    b = double(x)\n",
    "    c = add(a, b)\n",
    "    output.append(c)\n",
    "\n",
    "total = dask.delayed(sum)(output)\n"
   ]
  },
  {
   "cell_type": "code",
   "execution_count": 18,
   "id": "interstate-meter",
   "metadata": {},
   "outputs": [
    {
     "name": "stderr",
     "output_type": "stream",
     "text": [
      "/srv/conda/envs/notebook/lib/python3.8/site-packages/distributed/node.py:151: UserWarning: Port 8787 is already in use.\n",
      "Perhaps you already have a cluster running?\n",
      "Hosting the HTTP server on port 46635 instead\n",
      "  warnings.warn(\n"
     ]
    }
   ],
   "source": [
    "from dask.distributed import Client\n",
    "\n",
    "client = Client()  # start local workers as processes\n"
   ]
  },
  {
   "cell_type": "code",
   "execution_count": 19,
   "id": "infrared-cooperative",
   "metadata": {},
   "outputs": [],
   "source": [
    "def inc(x):\n",
    "    return x + 1\n",
    "\n",
    "def add(x, y):\n",
    "    return x + y\n",
    "\n",
    "a = client.submit(inc, 10)  # calls inc(10) in background thread or process\n",
    "b = client.submit(inc, 20)  # calls inc(20) in background thread or process\n"
   ]
  },
  {
   "cell_type": "code",
   "execution_count": 20,
   "id": "medieval-cycle",
   "metadata": {},
   "outputs": [
    {
     "data": {
      "text/plain": [
       "11"
      ]
     },
     "execution_count": 20,
     "metadata": {},
     "output_type": "execute_result"
    }
   ],
   "source": [
    "a.result()"
   ]
  },
  {
   "cell_type": "code",
   "execution_count": 21,
   "id": "mathematical-click",
   "metadata": {},
   "outputs": [],
   "source": [
    "c = client.submit(add, a, b)"
   ]
  },
  {
   "cell_type": "code",
   "execution_count": 22,
   "id": "controversial-group",
   "metadata": {},
   "outputs": [],
   "source": [
    "futures = client.map(inc, range(1000))"
   ]
  },
  {
   "cell_type": "code",
   "execution_count": 23,
   "id": "demonstrated-cliff",
   "metadata": {},
   "outputs": [],
   "source": [
    "results = client.gather(futures)"
   ]
  },
  {
   "cell_type": "code",
   "execution_count": null,
   "id": "pressing-industry",
   "metadata": {},
   "outputs": [],
   "source": []
  },
  {
   "cell_type": "code",
   "execution_count": null,
   "id": "descending-gabriel",
   "metadata": {},
   "outputs": [],
   "source": []
  }
 ],
 "metadata": {
  "kernelspec": {
   "display_name": "Python 3",
   "language": "python",
   "name": "python3"
  },
  "language_info": {
   "codemirror_mode": {
    "name": "ipython",
    "version": 3
   },
   "file_extension": ".py",
   "mimetype": "text/x-python",
   "name": "python",
   "nbconvert_exporter": "python",
   "pygments_lexer": "ipython3",
   "version": "3.8.6"
  }
 },
 "nbformat": 4,
 "nbformat_minor": 5
}
