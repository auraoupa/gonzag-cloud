{
 "cells": [
  {
   "cell_type": "code",
   "execution_count": 3,
   "id": "ethical-force",
   "metadata": {},
   "outputs": [],
   "source": [
    "import xarray as xr\n",
    "import sys\n",
    "import glob\n",
    "import numpy as nmp"
   ]
  },
  {
   "cell_type": "code",
   "execution_count": 20,
   "id": "comfortable-spokesman",
   "metadata": {},
   "outputs": [
    {
     "name": "stdout",
     "output_type": "stream",
     "text": [
      "0\n"
     ]
    },
    {
     "ename": "FileNotFoundError",
     "evalue": "[Errno 2] No such file or directory: b'/home/jovyan/gonzag_cloud/results_10/result_00.nc'",
     "output_type": "error",
     "traceback": [
      "\u001b[0;31m---------------------------------------------------------------------------\u001b[0m",
      "\u001b[0;31mKeyError\u001b[0m                                  Traceback (most recent call last)",
      "\u001b[0;32m/srv/conda/envs/notebook/lib/python3.8/site-packages/xarray/backends/file_manager.py\u001b[0m in \u001b[0;36m_acquire_with_cache_info\u001b[0;34m(self, needs_lock)\u001b[0m\n\u001b[1;32m    198\u001b[0m             \u001b[0;32mtry\u001b[0m\u001b[0;34m:\u001b[0m\u001b[0;34m\u001b[0m\u001b[0;34m\u001b[0m\u001b[0m\n\u001b[0;32m--> 199\u001b[0;31m                 \u001b[0mfile\u001b[0m \u001b[0;34m=\u001b[0m \u001b[0mself\u001b[0m\u001b[0;34m.\u001b[0m\u001b[0m_cache\u001b[0m\u001b[0;34m[\u001b[0m\u001b[0mself\u001b[0m\u001b[0;34m.\u001b[0m\u001b[0m_key\u001b[0m\u001b[0;34m]\u001b[0m\u001b[0;34m\u001b[0m\u001b[0;34m\u001b[0m\u001b[0m\n\u001b[0m\u001b[1;32m    200\u001b[0m             \u001b[0;32mexcept\u001b[0m \u001b[0mKeyError\u001b[0m\u001b[0;34m:\u001b[0m\u001b[0;34m\u001b[0m\u001b[0;34m\u001b[0m\u001b[0m\n",
      "\u001b[0;32m/srv/conda/envs/notebook/lib/python3.8/site-packages/xarray/backends/lru_cache.py\u001b[0m in \u001b[0;36m__getitem__\u001b[0;34m(self, key)\u001b[0m\n\u001b[1;32m     52\u001b[0m         \u001b[0;32mwith\u001b[0m \u001b[0mself\u001b[0m\u001b[0;34m.\u001b[0m\u001b[0m_lock\u001b[0m\u001b[0;34m:\u001b[0m\u001b[0;34m\u001b[0m\u001b[0;34m\u001b[0m\u001b[0m\n\u001b[0;32m---> 53\u001b[0;31m             \u001b[0mvalue\u001b[0m \u001b[0;34m=\u001b[0m \u001b[0mself\u001b[0m\u001b[0;34m.\u001b[0m\u001b[0m_cache\u001b[0m\u001b[0;34m[\u001b[0m\u001b[0mkey\u001b[0m\u001b[0;34m]\u001b[0m\u001b[0;34m\u001b[0m\u001b[0;34m\u001b[0m\u001b[0m\n\u001b[0m\u001b[1;32m     54\u001b[0m             \u001b[0mself\u001b[0m\u001b[0;34m.\u001b[0m\u001b[0m_cache\u001b[0m\u001b[0;34m.\u001b[0m\u001b[0mmove_to_end\u001b[0m\u001b[0;34m(\u001b[0m\u001b[0mkey\u001b[0m\u001b[0;34m)\u001b[0m\u001b[0;34m\u001b[0m\u001b[0;34m\u001b[0m\u001b[0m\n",
      "\u001b[0;31mKeyError\u001b[0m: [<class 'netCDF4._netCDF4.Dataset'>, ('/home/jovyan/gonzag_cloud/results_10/result_00.nc',), 'r', (('clobber', True), ('diskless', False), ('format', 'NETCDF4'), ('persist', False))]",
      "\nDuring handling of the above exception, another exception occurred:\n",
      "\u001b[0;31mFileNotFoundError\u001b[0m                         Traceback (most recent call last)",
      "\u001b[0;32m<ipython-input-20-8dbc16d38c89>\u001b[0m in \u001b[0;36m<module>\u001b[0;34m\u001b[0m\n\u001b[1;32m      2\u001b[0m     \u001b[0mprint\u001b[0m\u001b[0;34m(\u001b[0m\u001b[0mk\u001b[0m\u001b[0;34m)\u001b[0m\u001b[0;34m\u001b[0m\u001b[0;34m\u001b[0m\u001b[0m\n\u001b[1;32m      3\u001b[0m     \u001b[0mkk\u001b[0m\u001b[0;34m=\u001b[0m\u001b[0;34m\"{:02d}\"\u001b[0m\u001b[0;34m.\u001b[0m\u001b[0mformat\u001b[0m\u001b[0;34m(\u001b[0m\u001b[0mk\u001b[0m\u001b[0;34m)\u001b[0m\u001b[0;34m\u001b[0m\u001b[0;34m\u001b[0m\u001b[0m\n\u001b[0;32m----> 4\u001b[0;31m     \u001b[0mds\u001b[0m\u001b[0;34m=\u001b[0m\u001b[0mxr\u001b[0m\u001b[0;34m.\u001b[0m\u001b[0mopen_dataset\u001b[0m\u001b[0;34m(\u001b[0m\u001b[0;34m'results_10/result_'\u001b[0m\u001b[0;34m+\u001b[0m\u001b[0mstr\u001b[0m\u001b[0;34m(\u001b[0m\u001b[0mkk\u001b[0m\u001b[0;34m)\u001b[0m\u001b[0;34m+\u001b[0m\u001b[0;34m'.nc'\u001b[0m\u001b[0;34m)\u001b[0m\u001b[0;34m\u001b[0m\u001b[0;34m\u001b[0m\u001b[0m\n\u001b[0m\u001b[1;32m      5\u001b[0m     \u001b[0msla\u001b[0m\u001b[0;34m=\u001b[0m\u001b[0mds\u001b[0m\u001b[0;34m.\u001b[0m\u001b[0msla_unfiltered\u001b[0m\u001b[0;34m\u001b[0m\u001b[0;34m\u001b[0m\u001b[0m\n\u001b[1;32m      6\u001b[0m     \u001b[0mii\u001b[0m\u001b[0;34m=\u001b[0m\u001b[0mnmp\u001b[0m\u001b[0;34m.\u001b[0m\u001b[0mwhere\u001b[0m\u001b[0;34m(\u001b[0m\u001b[0mnmp\u001b[0m\u001b[0;34m.\u001b[0m\u001b[0misnan\u001b[0m\u001b[0;34m(\u001b[0m\u001b[0msla\u001b[0m\u001b[0;34m.\u001b[0m\u001b[0mvalues\u001b[0m\u001b[0;34m)\u001b[0m\u001b[0;34m==\u001b[0m\u001b[0;36m1\u001b[0m\u001b[0;34m)\u001b[0m\u001b[0;34m\u001b[0m\u001b[0;34m\u001b[0m\u001b[0m\n",
      "\u001b[0;32m/srv/conda/envs/notebook/lib/python3.8/site-packages/xarray/backends/api.py\u001b[0m in \u001b[0;36mopen_dataset\u001b[0;34m(filename_or_obj, group, decode_cf, mask_and_scale, decode_times, autoclose, concat_characters, decode_coords, engine, chunks, lock, cache, drop_variables, backend_kwargs, use_cftime, decode_timedelta)\u001b[0m\n\u001b[1;32m    570\u001b[0m \u001b[0;34m\u001b[0m\u001b[0m\n\u001b[1;32m    571\u001b[0m         \u001b[0mopener\u001b[0m \u001b[0;34m=\u001b[0m \u001b[0m_get_backend_cls\u001b[0m\u001b[0;34m(\u001b[0m\u001b[0mengine\u001b[0m\u001b[0;34m)\u001b[0m\u001b[0;34m\u001b[0m\u001b[0;34m\u001b[0m\u001b[0m\n\u001b[0;32m--> 572\u001b[0;31m         \u001b[0mstore\u001b[0m \u001b[0;34m=\u001b[0m \u001b[0mopener\u001b[0m\u001b[0;34m(\u001b[0m\u001b[0mfilename_or_obj\u001b[0m\u001b[0;34m,\u001b[0m \u001b[0;34m**\u001b[0m\u001b[0mextra_kwargs\u001b[0m\u001b[0;34m,\u001b[0m \u001b[0;34m**\u001b[0m\u001b[0mbackend_kwargs\u001b[0m\u001b[0;34m)\u001b[0m\u001b[0;34m\u001b[0m\u001b[0;34m\u001b[0m\u001b[0m\n\u001b[0m\u001b[1;32m    573\u001b[0m \u001b[0;34m\u001b[0m\u001b[0m\n\u001b[1;32m    574\u001b[0m     \u001b[0;32mwith\u001b[0m \u001b[0mclose_on_error\u001b[0m\u001b[0;34m(\u001b[0m\u001b[0mstore\u001b[0m\u001b[0;34m)\u001b[0m\u001b[0;34m:\u001b[0m\u001b[0;34m\u001b[0m\u001b[0;34m\u001b[0m\u001b[0m\n",
      "\u001b[0;32m/srv/conda/envs/notebook/lib/python3.8/site-packages/xarray/backends/netCDF4_.py\u001b[0m in \u001b[0;36mopen\u001b[0;34m(cls, filename, mode, format, group, clobber, diskless, persist, lock, lock_maker, autoclose)\u001b[0m\n\u001b[1;32m    362\u001b[0m             \u001b[0mnetCDF4\u001b[0m\u001b[0;34m.\u001b[0m\u001b[0mDataset\u001b[0m\u001b[0;34m,\u001b[0m \u001b[0mfilename\u001b[0m\u001b[0;34m,\u001b[0m \u001b[0mmode\u001b[0m\u001b[0;34m=\u001b[0m\u001b[0mmode\u001b[0m\u001b[0;34m,\u001b[0m \u001b[0mkwargs\u001b[0m\u001b[0;34m=\u001b[0m\u001b[0mkwargs\u001b[0m\u001b[0;34m\u001b[0m\u001b[0;34m\u001b[0m\u001b[0m\n\u001b[1;32m    363\u001b[0m         )\n\u001b[0;32m--> 364\u001b[0;31m         \u001b[0;32mreturn\u001b[0m \u001b[0mcls\u001b[0m\u001b[0;34m(\u001b[0m\u001b[0mmanager\u001b[0m\u001b[0;34m,\u001b[0m \u001b[0mgroup\u001b[0m\u001b[0;34m=\u001b[0m\u001b[0mgroup\u001b[0m\u001b[0;34m,\u001b[0m \u001b[0mmode\u001b[0m\u001b[0;34m=\u001b[0m\u001b[0mmode\u001b[0m\u001b[0;34m,\u001b[0m \u001b[0mlock\u001b[0m\u001b[0;34m=\u001b[0m\u001b[0mlock\u001b[0m\u001b[0;34m,\u001b[0m \u001b[0mautoclose\u001b[0m\u001b[0;34m=\u001b[0m\u001b[0mautoclose\u001b[0m\u001b[0;34m)\u001b[0m\u001b[0;34m\u001b[0m\u001b[0;34m\u001b[0m\u001b[0m\n\u001b[0m\u001b[1;32m    365\u001b[0m \u001b[0;34m\u001b[0m\u001b[0m\n\u001b[1;32m    366\u001b[0m     \u001b[0;32mdef\u001b[0m \u001b[0m_acquire\u001b[0m\u001b[0;34m(\u001b[0m\u001b[0mself\u001b[0m\u001b[0;34m,\u001b[0m \u001b[0mneeds_lock\u001b[0m\u001b[0;34m=\u001b[0m\u001b[0;32mTrue\u001b[0m\u001b[0;34m)\u001b[0m\u001b[0;34m:\u001b[0m\u001b[0;34m\u001b[0m\u001b[0;34m\u001b[0m\u001b[0m\n",
      "\u001b[0;32m/srv/conda/envs/notebook/lib/python3.8/site-packages/xarray/backends/netCDF4_.py\u001b[0m in \u001b[0;36m__init__\u001b[0;34m(self, manager, group, mode, lock, autoclose)\u001b[0m\n\u001b[1;32m    312\u001b[0m         \u001b[0mself\u001b[0m\u001b[0;34m.\u001b[0m\u001b[0m_group\u001b[0m \u001b[0;34m=\u001b[0m \u001b[0mgroup\u001b[0m\u001b[0;34m\u001b[0m\u001b[0;34m\u001b[0m\u001b[0m\n\u001b[1;32m    313\u001b[0m         \u001b[0mself\u001b[0m\u001b[0;34m.\u001b[0m\u001b[0m_mode\u001b[0m \u001b[0;34m=\u001b[0m \u001b[0mmode\u001b[0m\u001b[0;34m\u001b[0m\u001b[0;34m\u001b[0m\u001b[0m\n\u001b[0;32m--> 314\u001b[0;31m         \u001b[0mself\u001b[0m\u001b[0;34m.\u001b[0m\u001b[0mformat\u001b[0m \u001b[0;34m=\u001b[0m \u001b[0mself\u001b[0m\u001b[0;34m.\u001b[0m\u001b[0mds\u001b[0m\u001b[0;34m.\u001b[0m\u001b[0mdata_model\u001b[0m\u001b[0;34m\u001b[0m\u001b[0;34m\u001b[0m\u001b[0m\n\u001b[0m\u001b[1;32m    315\u001b[0m         \u001b[0mself\u001b[0m\u001b[0;34m.\u001b[0m\u001b[0m_filename\u001b[0m \u001b[0;34m=\u001b[0m \u001b[0mself\u001b[0m\u001b[0;34m.\u001b[0m\u001b[0mds\u001b[0m\u001b[0;34m.\u001b[0m\u001b[0mfilepath\u001b[0m\u001b[0;34m(\u001b[0m\u001b[0;34m)\u001b[0m\u001b[0;34m\u001b[0m\u001b[0;34m\u001b[0m\u001b[0m\n\u001b[1;32m    316\u001b[0m         \u001b[0mself\u001b[0m\u001b[0;34m.\u001b[0m\u001b[0mis_remote\u001b[0m \u001b[0;34m=\u001b[0m \u001b[0mis_remote_uri\u001b[0m\u001b[0;34m(\u001b[0m\u001b[0mself\u001b[0m\u001b[0;34m.\u001b[0m\u001b[0m_filename\u001b[0m\u001b[0;34m)\u001b[0m\u001b[0;34m\u001b[0m\u001b[0;34m\u001b[0m\u001b[0m\n",
      "\u001b[0;32m/srv/conda/envs/notebook/lib/python3.8/site-packages/xarray/backends/netCDF4_.py\u001b[0m in \u001b[0;36mds\u001b[0;34m(self)\u001b[0m\n\u001b[1;32m    371\u001b[0m     \u001b[0;34m@\u001b[0m\u001b[0mproperty\u001b[0m\u001b[0;34m\u001b[0m\u001b[0;34m\u001b[0m\u001b[0m\n\u001b[1;32m    372\u001b[0m     \u001b[0;32mdef\u001b[0m \u001b[0mds\u001b[0m\u001b[0;34m(\u001b[0m\u001b[0mself\u001b[0m\u001b[0;34m)\u001b[0m\u001b[0;34m:\u001b[0m\u001b[0;34m\u001b[0m\u001b[0;34m\u001b[0m\u001b[0m\n\u001b[0;32m--> 373\u001b[0;31m         \u001b[0;32mreturn\u001b[0m \u001b[0mself\u001b[0m\u001b[0;34m.\u001b[0m\u001b[0m_acquire\u001b[0m\u001b[0;34m(\u001b[0m\u001b[0;34m)\u001b[0m\u001b[0;34m\u001b[0m\u001b[0;34m\u001b[0m\u001b[0m\n\u001b[0m\u001b[1;32m    374\u001b[0m \u001b[0;34m\u001b[0m\u001b[0m\n\u001b[1;32m    375\u001b[0m     \u001b[0;32mdef\u001b[0m \u001b[0mopen_store_variable\u001b[0m\u001b[0;34m(\u001b[0m\u001b[0mself\u001b[0m\u001b[0;34m,\u001b[0m \u001b[0mname\u001b[0m\u001b[0;34m,\u001b[0m \u001b[0mvar\u001b[0m\u001b[0;34m)\u001b[0m\u001b[0;34m:\u001b[0m\u001b[0;34m\u001b[0m\u001b[0;34m\u001b[0m\u001b[0m\n",
      "\u001b[0;32m/srv/conda/envs/notebook/lib/python3.8/site-packages/xarray/backends/netCDF4_.py\u001b[0m in \u001b[0;36m_acquire\u001b[0;34m(self, needs_lock)\u001b[0m\n\u001b[1;32m    365\u001b[0m \u001b[0;34m\u001b[0m\u001b[0m\n\u001b[1;32m    366\u001b[0m     \u001b[0;32mdef\u001b[0m \u001b[0m_acquire\u001b[0m\u001b[0;34m(\u001b[0m\u001b[0mself\u001b[0m\u001b[0;34m,\u001b[0m \u001b[0mneeds_lock\u001b[0m\u001b[0;34m=\u001b[0m\u001b[0;32mTrue\u001b[0m\u001b[0;34m)\u001b[0m\u001b[0;34m:\u001b[0m\u001b[0;34m\u001b[0m\u001b[0;34m\u001b[0m\u001b[0m\n\u001b[0;32m--> 367\u001b[0;31m         \u001b[0;32mwith\u001b[0m \u001b[0mself\u001b[0m\u001b[0;34m.\u001b[0m\u001b[0m_manager\u001b[0m\u001b[0;34m.\u001b[0m\u001b[0macquire_context\u001b[0m\u001b[0;34m(\u001b[0m\u001b[0mneeds_lock\u001b[0m\u001b[0;34m)\u001b[0m \u001b[0;32mas\u001b[0m \u001b[0mroot\u001b[0m\u001b[0;34m:\u001b[0m\u001b[0;34m\u001b[0m\u001b[0;34m\u001b[0m\u001b[0m\n\u001b[0m\u001b[1;32m    368\u001b[0m             \u001b[0mds\u001b[0m \u001b[0;34m=\u001b[0m \u001b[0m_nc4_require_group\u001b[0m\u001b[0;34m(\u001b[0m\u001b[0mroot\u001b[0m\u001b[0;34m,\u001b[0m \u001b[0mself\u001b[0m\u001b[0;34m.\u001b[0m\u001b[0m_group\u001b[0m\u001b[0;34m,\u001b[0m \u001b[0mself\u001b[0m\u001b[0;34m.\u001b[0m\u001b[0m_mode\u001b[0m\u001b[0;34m)\u001b[0m\u001b[0;34m\u001b[0m\u001b[0;34m\u001b[0m\u001b[0m\n\u001b[1;32m    369\u001b[0m         \u001b[0;32mreturn\u001b[0m \u001b[0mds\u001b[0m\u001b[0;34m\u001b[0m\u001b[0;34m\u001b[0m\u001b[0m\n",
      "\u001b[0;32m/srv/conda/envs/notebook/lib/python3.8/contextlib.py\u001b[0m in \u001b[0;36m__enter__\u001b[0;34m(self)\u001b[0m\n\u001b[1;32m    111\u001b[0m         \u001b[0;32mdel\u001b[0m \u001b[0mself\u001b[0m\u001b[0;34m.\u001b[0m\u001b[0margs\u001b[0m\u001b[0;34m,\u001b[0m \u001b[0mself\u001b[0m\u001b[0;34m.\u001b[0m\u001b[0mkwds\u001b[0m\u001b[0;34m,\u001b[0m \u001b[0mself\u001b[0m\u001b[0;34m.\u001b[0m\u001b[0mfunc\u001b[0m\u001b[0;34m\u001b[0m\u001b[0;34m\u001b[0m\u001b[0m\n\u001b[1;32m    112\u001b[0m         \u001b[0;32mtry\u001b[0m\u001b[0;34m:\u001b[0m\u001b[0;34m\u001b[0m\u001b[0;34m\u001b[0m\u001b[0m\n\u001b[0;32m--> 113\u001b[0;31m             \u001b[0;32mreturn\u001b[0m \u001b[0mnext\u001b[0m\u001b[0;34m(\u001b[0m\u001b[0mself\u001b[0m\u001b[0;34m.\u001b[0m\u001b[0mgen\u001b[0m\u001b[0;34m)\u001b[0m\u001b[0;34m\u001b[0m\u001b[0;34m\u001b[0m\u001b[0m\n\u001b[0m\u001b[1;32m    114\u001b[0m         \u001b[0;32mexcept\u001b[0m \u001b[0mStopIteration\u001b[0m\u001b[0;34m:\u001b[0m\u001b[0;34m\u001b[0m\u001b[0;34m\u001b[0m\u001b[0m\n\u001b[1;32m    115\u001b[0m             \u001b[0;32mraise\u001b[0m \u001b[0mRuntimeError\u001b[0m\u001b[0;34m(\u001b[0m\u001b[0;34m\"generator didn't yield\"\u001b[0m\u001b[0;34m)\u001b[0m \u001b[0;32mfrom\u001b[0m \u001b[0;32mNone\u001b[0m\u001b[0;34m\u001b[0m\u001b[0;34m\u001b[0m\u001b[0m\n",
      "\u001b[0;32m/srv/conda/envs/notebook/lib/python3.8/site-packages/xarray/backends/file_manager.py\u001b[0m in \u001b[0;36macquire_context\u001b[0;34m(self, needs_lock)\u001b[0m\n\u001b[1;32m    185\u001b[0m     \u001b[0;32mdef\u001b[0m \u001b[0macquire_context\u001b[0m\u001b[0;34m(\u001b[0m\u001b[0mself\u001b[0m\u001b[0;34m,\u001b[0m \u001b[0mneeds_lock\u001b[0m\u001b[0;34m=\u001b[0m\u001b[0;32mTrue\u001b[0m\u001b[0;34m)\u001b[0m\u001b[0;34m:\u001b[0m\u001b[0;34m\u001b[0m\u001b[0;34m\u001b[0m\u001b[0m\n\u001b[1;32m    186\u001b[0m         \u001b[0;34m\"\"\"Context manager for acquiring a file.\"\"\"\u001b[0m\u001b[0;34m\u001b[0m\u001b[0;34m\u001b[0m\u001b[0m\n\u001b[0;32m--> 187\u001b[0;31m         \u001b[0mfile\u001b[0m\u001b[0;34m,\u001b[0m \u001b[0mcached\u001b[0m \u001b[0;34m=\u001b[0m \u001b[0mself\u001b[0m\u001b[0;34m.\u001b[0m\u001b[0m_acquire_with_cache_info\u001b[0m\u001b[0;34m(\u001b[0m\u001b[0mneeds_lock\u001b[0m\u001b[0;34m)\u001b[0m\u001b[0;34m\u001b[0m\u001b[0;34m\u001b[0m\u001b[0m\n\u001b[0m\u001b[1;32m    188\u001b[0m         \u001b[0;32mtry\u001b[0m\u001b[0;34m:\u001b[0m\u001b[0;34m\u001b[0m\u001b[0;34m\u001b[0m\u001b[0m\n\u001b[1;32m    189\u001b[0m             \u001b[0;32myield\u001b[0m \u001b[0mfile\u001b[0m\u001b[0;34m\u001b[0m\u001b[0;34m\u001b[0m\u001b[0m\n",
      "\u001b[0;32m/srv/conda/envs/notebook/lib/python3.8/site-packages/xarray/backends/file_manager.py\u001b[0m in \u001b[0;36m_acquire_with_cache_info\u001b[0;34m(self, needs_lock)\u001b[0m\n\u001b[1;32m    203\u001b[0m                     \u001b[0mkwargs\u001b[0m \u001b[0;34m=\u001b[0m \u001b[0mkwargs\u001b[0m\u001b[0;34m.\u001b[0m\u001b[0mcopy\u001b[0m\u001b[0;34m(\u001b[0m\u001b[0;34m)\u001b[0m\u001b[0;34m\u001b[0m\u001b[0;34m\u001b[0m\u001b[0m\n\u001b[1;32m    204\u001b[0m                     \u001b[0mkwargs\u001b[0m\u001b[0;34m[\u001b[0m\u001b[0;34m\"mode\"\u001b[0m\u001b[0;34m]\u001b[0m \u001b[0;34m=\u001b[0m \u001b[0mself\u001b[0m\u001b[0;34m.\u001b[0m\u001b[0m_mode\u001b[0m\u001b[0;34m\u001b[0m\u001b[0;34m\u001b[0m\u001b[0m\n\u001b[0;32m--> 205\u001b[0;31m                 \u001b[0mfile\u001b[0m \u001b[0;34m=\u001b[0m \u001b[0mself\u001b[0m\u001b[0;34m.\u001b[0m\u001b[0m_opener\u001b[0m\u001b[0;34m(\u001b[0m\u001b[0;34m*\u001b[0m\u001b[0mself\u001b[0m\u001b[0;34m.\u001b[0m\u001b[0m_args\u001b[0m\u001b[0;34m,\u001b[0m \u001b[0;34m**\u001b[0m\u001b[0mkwargs\u001b[0m\u001b[0;34m)\u001b[0m\u001b[0;34m\u001b[0m\u001b[0;34m\u001b[0m\u001b[0m\n\u001b[0m\u001b[1;32m    206\u001b[0m                 \u001b[0;32mif\u001b[0m \u001b[0mself\u001b[0m\u001b[0;34m.\u001b[0m\u001b[0m_mode\u001b[0m \u001b[0;34m==\u001b[0m \u001b[0;34m\"w\"\u001b[0m\u001b[0;34m:\u001b[0m\u001b[0;34m\u001b[0m\u001b[0;34m\u001b[0m\u001b[0m\n\u001b[1;32m    207\u001b[0m                     \u001b[0;31m# ensure file doesn't get overriden when opened again\u001b[0m\u001b[0;34m\u001b[0m\u001b[0;34m\u001b[0m\u001b[0;34m\u001b[0m\u001b[0m\n",
      "\u001b[0;32msrc/netCDF4/_netCDF4.pyx\u001b[0m in \u001b[0;36mnetCDF4._netCDF4.Dataset.__init__\u001b[0;34m()\u001b[0m\n",
      "\u001b[0;32msrc/netCDF4/_netCDF4.pyx\u001b[0m in \u001b[0;36mnetCDF4._netCDF4._ensure_nc_success\u001b[0;34m()\u001b[0m\n",
      "\u001b[0;31mFileNotFoundError\u001b[0m: [Errno 2] No such file or directory: b'/home/jovyan/gonzag_cloud/results_10/result_00.nc'"
     ]
    }
   ],
   "source": [
    "for k in nmp.arange(87):\n",
    "    print(k)\n",
    "    kk=\"{:02d}\".format(k)\n",
    "    ds=xr.open_dataset('results_10/result_'+str(kk)+'.nc')\n",
    "    sla=ds.sla_unfiltered\n",
    "    ii=nmp.where(nmp.isnan(sla.values)==1)\n",
    "    print('there are '+str(len(ii[0]))+' NaN in this file')"
   ]
  },
  {
   "cell_type": "code",
   "execution_count": 5,
   "id": "common-tackle",
   "metadata": {},
   "outputs": [],
   "source": [
    "fresults=sorted(glob.glob('result_??.nc'))\n",
    "ds=xr.open_mfdataset(fresults,concat_dim='time',combine='nested')"
   ]
  },
  {
   "cell_type": "code",
   "execution_count": 6,
   "id": "valid-narrative",
   "metadata": {},
   "outputs": [],
   "source": [
    "sla=ds.sla_unfiltered"
   ]
  },
  {
   "cell_type": "code",
   "execution_count": 7,
   "id": "tested-conversion",
   "metadata": {},
   "outputs": [
    {
     "data": {
      "text/plain": [
       "array([ 0.102,  0.118,  0.12 ,  0.101,  0.121,  0.121,  0.102,  0.101,\n",
       "        0.095,  0.075,  0.069,  0.062,  0.026,  0.059,  0.054,  0.051,\n",
       "        0.064,  0.043,  0.057,  0.043,  0.042,  0.058,  0.07 ,  0.08 ,\n",
       "        0.094,  0.089,  0.098,  0.106,  0.11 ,  0.111,  0.116,  0.102,\n",
       "        0.096,  0.088,  0.091,  0.08 ,  0.045,  0.075,  0.043,  0.034,\n",
       "        0.026,  0.047,  0.048,  0.046,  0.06 ,  0.066,  0.082,  0.111,\n",
       "        0.117,  0.151,  0.161,  0.145,  0.259,  0.161,  0.115,  0.11 ,\n",
       "        0.056,  0.05 ,  0.105,  0.07 ,  0.079,  0.031,  0.017,    nan,\n",
       "          nan, -0.05 , -0.026,  0.008,  0.048,  0.093,  0.112,  0.119,\n",
       "        0.113,  0.095,  0.088,  0.091,  0.076,  0.091,  0.114,  0.138,\n",
       "        0.138,  0.118,  0.141,  0.124,  0.111,  0.136,  0.142,  0.131,\n",
       "        0.13 ,  0.124,  0.138,  0.16 ,  0.168,  0.186,  0.158,  0.151,\n",
       "        0.15 ,  0.137,  0.117])"
      ]
     },
     "execution_count": 7,
     "metadata": {},
     "output_type": "execute_result"
    }
   ],
   "source": [
    "sla[3767:3866].values"
   ]
  },
  {
   "cell_type": "code",
   "execution_count": 8,
   "id": "rural-surgeon",
   "metadata": {},
   "outputs": [],
   "source": [
    "ii=nmp.where(nmp.isnan(sla.values)==1)"
   ]
  },
  {
   "cell_type": "code",
   "execution_count": 9,
   "id": "public-plenty",
   "metadata": {},
   "outputs": [
    {
     "name": "stdout",
     "output_type": "stream",
     "text": [
      "[3830 3831 8962 8963]\n"
     ]
    }
   ],
   "source": [
    "print(ii[0])"
   ]
  },
  {
   "cell_type": "code",
   "execution_count": 13,
   "id": "exposed-engagement",
   "metadata": {},
   "outputs": [
    {
     "name": "stdout",
     "output_type": "stream",
     "text": [
      "0\n",
      "this file covers index 0 to 167\n",
      "1\n",
      "this file covers index 167 to 315\n",
      "2\n",
      "this file covers index 315 to 488\n",
      "3\n",
      "this file covers index 488 to 567\n",
      "4\n",
      "this file covers index 567 to 678\n",
      "5\n",
      "this file covers index 678 to 815\n",
      "6\n",
      "this file covers index 815 to 886\n",
      "7\n",
      "this file covers index 886 to 1052\n",
      "8\n",
      "this file covers index 1052 to 1223\n",
      "9\n",
      "this file covers index 1223 to 1396\n",
      "10\n",
      "this file covers index 1396 to 1568\n",
      "11\n",
      "this file covers index 1568 to 1741\n",
      "12\n",
      "this file covers index 1741 to 1817\n",
      "13\n",
      "this file covers index 1817 to 1969\n",
      "14\n",
      "this file covers index 1969 to 2138\n",
      "15\n",
      "this file covers index 2138 to 2168\n",
      "16\n",
      "this file covers index 2168 to 2341\n",
      "17\n",
      "this file covers index 2341 to 2513\n",
      "18\n",
      "this file covers index 2513 to 2662\n",
      "19\n",
      "this file covers index 2662 to 2835\n",
      "20\n",
      "this file covers index 2835 to 2912\n",
      "21\n",
      "this file covers index 2912 to 3023\n",
      "22\n",
      "this file covers index 3023 to 3157\n",
      "23\n",
      "this file covers index 3157 to 3219\n",
      "24\n",
      "this file covers index 3219 to 3381\n",
      "25\n",
      "this file covers index 3381 to 3543\n",
      "26\n",
      "this file covers index 3543 to 3709\n",
      "27\n",
      "this file covers index 3709 to 3881\n",
      "28\n",
      "this file covers index 3881 to 4054\n",
      "29\n",
      "this file covers index 4054 to 4132\n",
      "30\n",
      "this file covers index 4132 to 4265\n",
      "31\n",
      "this file covers index 4265 to 4436\n",
      "32\n",
      "this file covers index 4436 to 4478\n",
      "33\n",
      "this file covers index 4478 to 4651\n",
      "34\n",
      "this file covers index 4651 to 4823\n",
      "35\n",
      "this file covers index 4823 to 4974\n",
      "36\n",
      "this file covers index 4974 to 5142\n",
      "37\n",
      "this file covers index 5142 to 5215\n",
      "38\n",
      "this file covers index 5215 to 5324\n",
      "39\n",
      "this file covers index 5324 to 5459\n",
      "40\n",
      "this file covers index 5459 to 5530\n",
      "41\n",
      "this file covers index 5530 to 5693\n",
      "42\n",
      "this file covers index 5693 to 5863\n",
      "43\n",
      "this file covers index 5863 to 6027\n",
      "44\n",
      "this file covers index 6027 to 6149\n",
      "45\n",
      "this file covers index 6149 to 6174\n",
      "46\n",
      "this file covers index 6174 to 6226\n",
      "47\n",
      "this file covers index 6226 to 6336\n",
      "48\n",
      "this file covers index 6336 to 6340\n",
      "49\n",
      "this file covers index 6340 to 6512\n",
      "50\n",
      "this file covers index 6512 to 6682\n",
      "51\n",
      "this file covers index 6682 to 6832\n",
      "52\n",
      "this file covers index 6832 to 6918\n",
      "53\n",
      "this file covers index 6918 to 6984\n",
      "54\n",
      "this file covers index 6984 to 7079\n",
      "55\n",
      "this file covers index 7079 to 7234\n",
      "56\n",
      "this file covers index 7234 to 7406\n",
      "57\n",
      "this file covers index 7406 to 7560\n",
      "58\n",
      "this file covers index 7560 to 7679\n",
      "59\n",
      "this file covers index 7679 to 7704\n",
      "60\n",
      "this file covers index 7704 to 7753\n",
      "61\n",
      "this file covers index 7753 to 7863\n",
      "62\n",
      "this file covers index 7863 to 7867\n",
      "63\n",
      "this file covers index 7867 to 8027\n",
      "64\n",
      "this file covers index 8027 to 8195\n",
      "65\n",
      "this file covers index 8195 to 8344\n",
      "66\n",
      "this file covers index 8344 to 8432\n",
      "67\n",
      "this file covers index 8432 to 8501\n",
      "68\n",
      "this file covers index 8501 to 8590\n",
      "69\n",
      "this file covers index 8590 to 8761\n",
      "70\n",
      "this file covers index 8761 to 8933\n",
      "71\n",
      "this file covers index 8933 to 9106\n",
      "72\n",
      "this file covers index 9106 to 9226\n",
      "73\n",
      "this file covers index 9226 to 9248\n",
      "74\n",
      "this file covers index 9248 to 9302\n",
      "75\n",
      "this file covers index 9302 to 9414\n",
      "76\n",
      "this file covers index 9414 to 9418\n",
      "77\n",
      "this file covers index 9418 to 9583\n",
      "78\n",
      "this file covers index 9583 to 9755\n",
      "79\n",
      "this file covers index 9755 to 9888\n",
      "80\n",
      "this file covers index 9888 to 9902\n",
      "81\n",
      "this file covers index 9902 to 9912\n",
      "82\n",
      "this file covers index 9912 to 9974\n",
      "83\n",
      "this file covers index 9974 to 10108\n",
      "84\n",
      "this file covers index 10108 to 10122\n",
      "85\n",
      "this file covers index 10122 to 10131\n",
      "86\n",
      "this file covers index 10131 to 10188\n"
     ]
    }
   ],
   "source": [
    "len_track=0\n",
    "for k in nmp.arange(87):\n",
    "    print(k)\n",
    "    kk=\"{:02d}\".format(k)\n",
    "    ds=xr.open_dataset('result_'+str(kk)+'.nc')\n",
    "    sla=ds.sla_unfiltered\n",
    "    it1=len_track\n",
    "    it2=len_track+len(sla)\n",
    "    print('this file covers index '+str(it1)+' to '+str(it2))\n",
    "    len_track=it2"
   ]
  },
  {
   "cell_type": "code",
   "execution_count": 14,
   "id": "extended-speed",
   "metadata": {},
   "outputs": [
    {
     "name": "stdout",
     "output_type": "stream",
     "text": [
      "27\n",
      "[-0.009  0.015  0.017 -0.014 -0.024 -0.029 -0.045 -0.057 -0.088 -0.088\n",
      " -0.086 -0.112 -0.11  -0.135 -0.132 -0.143 -0.152 -0.17  -0.171 -0.166\n",
      " -0.185 -0.158 -0.162 -0.157 -0.148 -0.138 -0.125 -0.124 -0.106 -0.086\n",
      " -0.094 -0.1   -0.133 -0.112 -0.086 -0.081 -0.053 -0.026 -0.01   0.028\n",
      "  0.06   0.08   0.073  0.078  0.112  0.106  0.1    0.112  0.091  0.096\n",
      "  0.118  0.123  0.125  0.131  0.121  0.128  0.11   0.122  0.102  0.118\n",
      "  0.12   0.101  0.121  0.121  0.102  0.101  0.095  0.075  0.069  0.062\n",
      "  0.026  0.059  0.054  0.051  0.064  0.043  0.057  0.043  0.042  0.058\n",
      "  0.07   0.08   0.094  0.089  0.098  0.106  0.11   0.111  0.116  0.102\n",
      "  0.096  0.088  0.091  0.08   0.045  0.075  0.043  0.034  0.026  0.047\n",
      "  0.048  0.046  0.06   0.066  0.082  0.111  0.117  0.151  0.161  0.145\n",
      "  0.259  0.161  0.115  0.11   0.056  0.05   0.105  0.07   0.079  0.031\n",
      "  0.017    nan    nan -0.05  -0.026  0.008  0.048  0.093  0.112  0.119\n",
      "  0.113  0.095  0.088  0.091  0.076  0.091  0.114  0.138  0.138  0.118\n",
      "  0.141  0.124  0.111  0.136  0.142  0.131  0.13   0.124  0.138  0.16\n",
      "  0.168  0.186  0.158  0.151  0.15   0.137  0.117  0.124  0.111  0.108\n",
      "  0.098  0.095  0.103  0.099  0.099  0.092  0.084  0.105  0.115  0.125\n",
      "  0.111  0.117]\n"
     ]
    }
   ],
   "source": [
    "    k=27\n",
    "    print(k)\n",
    "    kk=\"{:02d}\".format(k)\n",
    "    ds=xr.open_dataset('result_'+str(kk)+'.nc')\n",
    "    sla=ds.sla_unfiltered\n",
    "    print(sla.values)\n"
   ]
  },
  {
   "cell_type": "code",
   "execution_count": 17,
   "id": "presidential-offset",
   "metadata": {},
   "outputs": [
    {
     "name": "stdout",
     "output_type": "stream",
     "text": [
      "71\n",
      "[ 0.069  0.074  0.089  0.109  0.103  0.062  0.075  0.1    0.095  0.097\n",
      "  0.101  0.088  0.102  0.113  0.115  0.146 -0.266 -0.192 -0.205 -0.188\n",
      " -0.311 -0.368 -0.408 -0.418 -0.372 -0.359 -0.304 -0.296 -0.281    nan\n",
      "    nan -0.186 -0.076  0.013  0.1    0.19   0.223  0.257  0.236  0.22\n",
      "  0.207  0.201  0.175  0.181  0.187  0.167  0.166  0.166  0.163  0.188\n",
      "  0.186  0.149  0.152  0.128  0.109  0.096  0.091  0.1    0.092  0.106\n",
      "  0.099  0.077  0.075  0.073  0.047  0.025  0.048  0.049  0.037  0.048\n",
      "  0.022  0.014 -0.003 -0.014 -0.016 -0.043 -0.045 -0.03  -0.022 -0.038\n",
      " -0.046 -0.112 -0.108 -0.075 -0.07  -0.044 -0.041 -0.028 -0.048 -0.073\n",
      "  0.01   0.038  0.03   0.027  0.044  0.017 -0.006  0.027  0.014 -0.022\n",
      " -0.021 -0.036 -0.075 -0.073 -0.052 -0.073 -0.071 -0.073 -0.051 -0.072\n",
      " -0.049 -0.042 -0.045 -0.057 -0.073 -0.057 -0.05  -0.035 -0.026 -0.032\n",
      " -0.032 -0.017  0.001 -0.017 -0.027  0.032  0.022  0.031 -0.02   0.002\n",
      "  0.009  0.041  0.047  0.03   0.055  0.041  0.013  0.032  0.056  0.054\n",
      "  0.055  0.064  0.044  0.004  0.037  0.031  0.03   0.039  0.027  0.055\n",
      "  0.057  0.047  0.066  0.054  0.04   0.041  0.03   0.044  0.038  0.037\n",
      "  0.049 -0.02   0.075  0.046  0.044  0.084  0.042  0.047  0.066  0.049\n",
      "  0.055  0.082  0.054]\n",
      "2\n"
     ]
    }
   ],
   "source": [
    "    k=71\n",
    "    print(k)\n",
    "    kk=\"{:02d}\".format(k)\n",
    "    ds=xr.open_dataset('result_'+str(kk)+'.nc')\n",
    "    sla=ds.sla_unfiltered\n",
    "    print(sla.values)\n",
    "    ii=nmp.where(nmp.isnan(sla.values)==1)\n",
    "    print(len(ii[0]))"
   ]
  },
  {
   "cell_type": "code",
   "execution_count": 21,
   "id": "native-toronto",
   "metadata": {},
   "outputs": [],
   "source": [
    "from intake import open_catalog\n",
    "cat = open_catalog(\"https://raw.githubusercontent.com/pangeo-data/pangeo-datastore/master/intake-catalogs/ocean/altimetry.yaml\")\n",
    "dssat  = cat[\"al\"].to_dask()"
   ]
  },
  {
   "cell_type": "code",
   "execution_count": 22,
   "id": "disturbed-permit",
   "metadata": {},
   "outputs": [],
   "source": [
    "from gonzag.config import *\n",
    "from gonzag.io import *\n",
    "from gonzag.utils import *\n",
    "from gonzag.mod2sat import *\n",
    "from gonzag.bilin_mapping import *\n",
    "from gonzag.spectralysis import *\n"
   ]
  },
  {
   "cell_type": "code",
   "execution_count": 23,
   "id": "coordinate-leather",
   "metadata": {},
   "outputs": [],
   "source": [
    "import xarray as xr\n",
    "osn_url = 'https://ncsa.osn.xsede.org/Pangeo/pangeo-forge/swot_adac/eNATL60_surface_region_1'\n",
    "dsmod = xr.open_zarr(osn_url, consolidated=True)"
   ]
  },
  {
   "cell_type": "code",
   "execution_count": 24,
   "id": "north-break",
   "metadata": {},
   "outputs": [],
   "source": [
    "name_ssh_mod = 'sossheig'\n",
    "name_lsm_mod = 'tmask' \n",
    "l_griddist = False"
   ]
  },
  {
   "cell_type": "code",
   "execution_count": 25,
   "id": "nonprofit-delight",
   "metadata": {},
   "outputs": [],
   "source": [
    "name_ssh_sat='sla_unfiltered'"
   ]
  },
  {
   "cell_type": "code",
   "execution_count": 26,
   "id": "animated-people",
   "metadata": {},
   "outputs": [
    {
     "name": "stdout",
     "output_type": "stream",
     "text": [
      " *** Time overlap between model and satellite in UNIX epoch time: it1, it2 2014-02-01 -- 2014-04-30\n"
     ]
    }
   ],
   "source": [
    "    (date1,date2), (Nts,Ntm) = GetTimeOverlap( dssat , dsmod )\n",
    "    print(' *** Time overlap between model and satellite in UNIX epoch time: it1, it2',date1,'--',date2)\n"
   ]
  },
  {
   "cell_type": "code",
   "execution_count": 28,
   "id": "julian-prague",
   "metadata": {},
   "outputs": [
    {
     "name": "stdout",
     "output_type": "stream",
     "text": [
      "\n",
      " *** what we use to define model land-sea mask:\n",
      "    => \"tmask\" in dataset \n",
      "\n",
      " *** Skipping computation of angle distortion of the model grid! (\"-D\" option not invoked)...\n",
      "\n",
      " *** About model gridded (source) domain:\n",
      "     * shape =  (763, 611)\n",
      "     * horizontal resolution:  0.016657295  degrees or  1.8507920147292316  km\n",
      "     * Is this a global domain w.r.t longitude:  False\n",
      "       ==> this is a regional domain\n",
      "       ==> working in the [0:360] frame...\n",
      "     * lon_min, lon_max =  281.99 292.17\n",
      "     * lat_min, lat_max =  30.01 40.01\n",
      "     * should we pay attention to possible STRONG local distorsion in the grid:  False\n",
      "     * number of time records of interest for the interpolation to come:  2136\n",
      "       ==> time record dates: 2014-02-01 to 2014-04-30, included\n",
      "\n"
     ]
    }
   ],
   "source": [
    "  \n",
    "    ModelGrid = ModGrid( dsmod, date1 , date2 , dsmod, name_lsm_mod, distorded_grid=False )\n"
   ]
  },
  {
   "cell_type": "code",
   "execution_count": 29,
   "id": "rural-charger",
   "metadata": {},
   "outputs": [
    {
     "name": "stdout",
     "output_type": "stream",
     "text": [
      " *** [SatTrack()] Analyzing the time vector in dataset ...\n",
      "\n",
      " *** About satellite track (target) domain:\n",
      "     * number of time records of interest for the interpolation to come:  10236\n",
      "       ==> time record indices: 14883510 to 19033581, included\n",
      "\n",
      "       separated in 87 tracks\n"
     ]
    }
   ],
   "source": [
    "SatelliteTrack = SatTrack( dssat, date1, date2, Np=Nts, \\\n",
    "                              domain_bounds=ModelGrid.domain_bounds, l_0_360=ModelGrid.l360 )"
   ]
  },
  {
   "cell_type": "code",
   "execution_count": 37,
   "id": "precise-oxygen",
   "metadata": {},
   "outputs": [],
   "source": [
    "ssh_sat=SatelliteTrack.file[name_ssh_sat][SatelliteTrack.keepit]"
   ]
  },
  {
   "cell_type": "code",
   "execution_count": 38,
   "id": "scheduled-capacity",
   "metadata": {},
   "outputs": [],
   "source": [
    "ii=nmp.where(nmp.isnan(ssh_sat.values)==1)"
   ]
  },
  {
   "cell_type": "code",
   "execution_count": 39,
   "id": "functional-questionnaire",
   "metadata": {},
   "outputs": [
    {
     "data": {
      "text/plain": [
       "array([], dtype=int64)"
      ]
     },
     "execution_count": 39,
     "metadata": {},
     "output_type": "execute_result"
    }
   ],
   "source": [
    "ii[0]"
   ]
  },
  {
   "cell_type": "code",
   "execution_count": null,
   "id": "auburn-validation",
   "metadata": {},
   "outputs": [],
   "source": []
  }
 ],
 "metadata": {
  "kernelspec": {
   "display_name": "Python 3",
   "language": "python",
   "name": "python3"
  },
  "language_info": {
   "codemirror_mode": {
    "name": "ipython",
    "version": 3
   },
   "file_extension": ".py",
   "mimetype": "text/x-python",
   "name": "python",
   "nbconvert_exporter": "python",
   "pygments_lexer": "ipython3",
   "version": "3.8.6"
  }
 },
 "nbformat": 4,
 "nbformat_minor": 5
}
